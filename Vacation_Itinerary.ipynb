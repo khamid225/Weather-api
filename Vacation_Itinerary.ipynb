{
 "cells": [
  {
   "cell_type": "markdown",
   "metadata": {},
   "source": [
    "## Deliverable 3. Create a Travel Itinerary Map."
   ]
  },
  {
   "cell_type": "code",
   "execution_count": 124,
   "metadata": {},
   "outputs": [],
   "source": [
    "# Dependencies and Setup\n",
    "import pandas as pd\n",
    "import requests\n",
    "import gmaps\n",
    "\n",
    "# Import API key\n",
    "from config import g_key\n",
    "\n",
    "# Configure gmaps\n",
    "gmaps.configure(api_key=g_key)"
   ]
  },
  {
   "cell_type": "code",
   "execution_count": 125,
   "metadata": {},
   "outputs": [
    {
     "data": {
      "text/html": [
       "<div>\n",
       "<style scoped>\n",
       "    .dataframe tbody tr th:only-of-type {\n",
       "        vertical-align: middle;\n",
       "    }\n",
       "\n",
       "    .dataframe tbody tr th {\n",
       "        vertical-align: top;\n",
       "    }\n",
       "\n",
       "    .dataframe thead th {\n",
       "        text-align: right;\n",
       "    }\n",
       "</style>\n",
       "<table border=\"1\" class=\"dataframe\">\n",
       "  <thead>\n",
       "    <tr style=\"text-align: right;\">\n",
       "      <th></th>\n",
       "      <th>City_ID</th>\n",
       "      <th>City</th>\n",
       "      <th>Country</th>\n",
       "      <th>Max Temp</th>\n",
       "      <th>Current Description</th>\n",
       "      <th>Lat</th>\n",
       "      <th>Lng</th>\n",
       "      <th>Hotel Name</th>\n",
       "    </tr>\n",
       "  </thead>\n",
       "  <tbody>\n",
       "    <tr>\n",
       "      <th>0</th>\n",
       "      <td>0</td>\n",
       "      <td>Lorengau</td>\n",
       "      <td>PG</td>\n",
       "      <td>26.97</td>\n",
       "      <td>overcast clouds</td>\n",
       "      <td>-2.0226</td>\n",
       "      <td>147.2712</td>\n",
       "      <td>Lorengau Harbourside Hotel</td>\n",
       "    </tr>\n",
       "    <tr>\n",
       "      <th>1</th>\n",
       "      <td>4</td>\n",
       "      <td>Puerto Ayora</td>\n",
       "      <td>EC</td>\n",
       "      <td>26.98</td>\n",
       "      <td>broken clouds</td>\n",
       "      <td>-0.7393</td>\n",
       "      <td>-90.3518</td>\n",
       "      <td>Finch Bay Galapagos Hotel</td>\n",
       "    </tr>\n",
       "    <tr>\n",
       "      <th>2</th>\n",
       "      <td>7</td>\n",
       "      <td>Maceió</td>\n",
       "      <td>BR</td>\n",
       "      <td>26.69</td>\n",
       "      <td>few clouds</td>\n",
       "      <td>-9.6658</td>\n",
       "      <td>-35.7353</td>\n",
       "      <td>Poutur Pousada</td>\n",
       "    </tr>\n",
       "    <tr>\n",
       "      <th>3</th>\n",
       "      <td>29</td>\n",
       "      <td>Hilo</td>\n",
       "      <td>US</td>\n",
       "      <td>27.11</td>\n",
       "      <td>scattered clouds</td>\n",
       "      <td>19.7297</td>\n",
       "      <td>-155.0900</td>\n",
       "      <td>Hilo Hawaiian Hotel</td>\n",
       "    </tr>\n",
       "    <tr>\n",
       "      <th>4</th>\n",
       "      <td>36</td>\n",
       "      <td>Hong Kong</td>\n",
       "      <td>HK</td>\n",
       "      <td>29.98</td>\n",
       "      <td>overcast clouds</td>\n",
       "      <td>22.2855</td>\n",
       "      <td>114.1577</td>\n",
       "      <td>Mini Hotel Central</td>\n",
       "    </tr>\n",
       "  </tbody>\n",
       "</table>\n",
       "</div>"
      ],
      "text/plain": [
       "   City_ID          City Country  Max Temp Current Description      Lat  \\\n",
       "0        0      Lorengau      PG     26.97     overcast clouds  -2.0226   \n",
       "1        4  Puerto Ayora      EC     26.98       broken clouds  -0.7393   \n",
       "2        7        Maceió      BR     26.69          few clouds  -9.6658   \n",
       "3       29          Hilo      US     27.11    scattered clouds  19.7297   \n",
       "4       36     Hong Kong      HK     29.98     overcast clouds  22.2855   \n",
       "\n",
       "        Lng                  Hotel Name  \n",
       "0  147.2712  Lorengau Harbourside Hotel  \n",
       "1  -90.3518   Finch Bay Galapagos Hotel  \n",
       "2  -35.7353              Poutur Pousada  \n",
       "3 -155.0900         Hilo Hawaiian Hotel  \n",
       "4  114.1577          Mini Hotel Central  "
      ]
     },
     "execution_count": 125,
     "metadata": {},
     "output_type": "execute_result"
    }
   ],
   "source": [
    "# 1. Read the WeatherPy_vacation.csv into a DataFrame.\n",
    "vacation_df = pd.read_csv(\"../Vacation_Search/WeatherPy_Vacation.csv\")\n",
    "vacation_df.head()"
   ]
  },
  {
   "cell_type": "code",
   "execution_count": 126,
   "metadata": {},
   "outputs": [],
   "source": [
    "# 2. Using the template add the city name, the country code, the weather description and maximum temperature for the city.\n",
    "info_box_template = (\n",
    "    \"<b>Hotel Name</b><br/>{Hotel Name}<br/>\"\n",
    "    \"<b>City</b><br/>{City}<br/>\"\n",
    "    \"<b>Country</b><br/>{Country}<br/>\"\n",
    "    \"<b>Current Weather</b><br/>{Current Description}<br/>\"\n",
    "    \"<b>Maximum Temperature</b><br/>{Max Temp}<br/>\"\n",
    ")\n",
    "\n",
    "# 3a. Get the data from each row and add it to the formatting template and store the data in a list.\n",
    "hotel_info = [info_box_template.format(**row) for index, row in vacation_df.iterrows()]\n",
    "\n",
    "# 3b. Get the latitude and longitude from each row and store in a new DataFrame.\n",
    "locations = vacation_df[[\"Lat\", \"Lng\"]]"
   ]
  },
  {
   "cell_type": "code",
   "execution_count": 127,
   "metadata": {},
   "outputs": [
    {
     "data": {
      "application/vnd.jupyter.widget-view+json": {
       "model_id": "2acf965a2b0049bb963a01a9f87e64fa",
       "version_major": 2,
       "version_minor": 0
      },
      "text/plain": [
       "Figure(layout=FigureLayout(height='420px'))"
      ]
     },
     "metadata": {},
     "output_type": "display_data"
    }
   ],
   "source": [
    "# 4a. Add a marker layer for each city to the map.\n",
    "fig = gmaps.figure()\n",
    "markers = gmaps.marker_layer(locations, info_box_content=hotel_info)\n",
    "fig.add_layer(markers)\n",
    "\n",
    "# 4b. Display the figure\n",
    "fig"
   ]
  },
  {
   "cell_type": "code",
   "execution_count": 129,
   "metadata": {},
   "outputs": [],
   "source": [
    "# From the map above pick 4 cities and create a vacation itinerary route to travel between the four cities. \n",
    "# 5. Create DataFrames for each city by filtering the 'vacation_df' using the loc method. \n",
    "# Hint: The starting and ending city should be the same city.\n",
    "\n",
    "# Let's pick 4 cities in Brazil.\n",
    "vacation_start = pd.DataFrame(vacation_df.loc[vacation_df[\"Country\"] == \"BR\"].iloc[4])\n",
    "vacation_end = pd.DataFrame(vacation_df.loc[vacation_df[\"Country\"] == \"BR\"].iloc[4])\n",
    "vacation_stop1 = pd.DataFrame(vacation_df.loc[vacation_df[\"Country\"] == \"BR\"].iloc[2])\n",
    "vacation_stop2 = pd.DataFrame(vacation_df.loc[vacation_df[\"Country\"] == \"BR\"].iloc[6])\n",
    "vacation_stop3 = pd.DataFrame(vacation_df.loc[vacation_df[\"Country\"] == \"BR\"].iloc[5])"
   ]
  },
  {
   "cell_type": "code",
   "execution_count": 130,
   "metadata": {},
   "outputs": [],
   "source": [
    "# 6. Get the latitude-longitude pairs as tuples from each city DataFrame using the to_numpy function and list indexing.\n",
    "def extract_lat_lng(df):\n",
    "    return [\n",
    "        df.to_numpy()[5].tolist()[0],\n",
    "        df.to_numpy()[6].tolist()[0],\n",
    "    ]\n",
    "\n",
    "start = extract_lat_lng(vacation_start)\n",
    "end = extract_lat_lng(vacation_end)\n",
    "stop1 = extract_lat_lng(vacation_stop1)\n",
    "stop2 = extract_lat_lng(vacation_stop2)\n",
    "stop3 = extract_lat_lng(vacation_stop3)"
   ]
  },
  {
   "cell_type": "code",
   "execution_count": 84,
   "metadata": {
    "scrolled": true
   },
   "outputs": [
    {
     "data": {
      "application/vnd.jupyter.widget-view+json": {
       "model_id": "09c8709287d543cabb6dbf234196d789",
       "version_major": 2,
       "version_minor": 0
      },
      "text/plain": [
       "Figure(layout=FigureLayout(height='420px'))"
      ]
     },
     "metadata": {},
     "output_type": "display_data"
    }
   ],
   "source": [
    "# 7. Create a direction layer map using the start and end latitude-longitude pairs,\n",
    "# and stop1, stop2, and stop3 as the waypoints. The travel_mode should be \"DRIVING\", \"BICYCLING\", or \"WALKING\".\n",
    "fig_itinerary = gmaps.figure()\n",
    "itinerary = gmaps.directions_layer(\n",
    "        start, end, waypoints=[stop1, stop2, stop3],\n",
    "        travel_mode='DRIVING')\n",
    "fig_itinerary.add_layer(itinerary)\n",
    "\n",
    "fig_itinerary"
   ]
  },
  {
   "cell_type": "code",
   "execution_count": 131,
   "metadata": {},
   "outputs": [
    {
     "data": {
      "text/html": [
       "<div>\n",
       "<style scoped>\n",
       "    .dataframe tbody tr th:only-of-type {\n",
       "        vertical-align: middle;\n",
       "    }\n",
       "\n",
       "    .dataframe tbody tr th {\n",
       "        vertical-align: top;\n",
       "    }\n",
       "\n",
       "    .dataframe thead th {\n",
       "        text-align: right;\n",
       "    }\n",
       "</style>\n",
       "<table border=\"1\" class=\"dataframe\">\n",
       "  <thead>\n",
       "    <tr style=\"text-align: right;\">\n",
       "      <th></th>\n",
       "      <th>City_ID</th>\n",
       "      <th>City</th>\n",
       "      <th>Country</th>\n",
       "      <th>Max Temp</th>\n",
       "      <th>Current Description</th>\n",
       "      <th>Lat</th>\n",
       "      <th>Lng</th>\n",
       "      <th>Hotel Name</th>\n",
       "    </tr>\n",
       "  </thead>\n",
       "  <tbody>\n",
       "    <tr>\n",
       "      <th>8</th>\n",
       "      <td>65</td>\n",
       "      <td>Piracuruca</td>\n",
       "      <td>BR</td>\n",
       "      <td>27.15</td>\n",
       "      <td>broken clouds</td>\n",
       "      <td>-3.9281</td>\n",
       "      <td>-41.7092</td>\n",
       "      <td>Pousada Piracuruca</td>\n",
       "    </tr>\n",
       "    <tr>\n",
       "      <th>14</th>\n",
       "      <td>109</td>\n",
       "      <td>Natal</td>\n",
       "      <td>BR</td>\n",
       "      <td>25.72</td>\n",
       "      <td>few clouds</td>\n",
       "      <td>-5.7950</td>\n",
       "      <td>-35.2094</td>\n",
       "      <td>Villa Park Hotel | Natal</td>\n",
       "    </tr>\n",
       "    <tr>\n",
       "      <th>249</th>\n",
       "      <td>1388</td>\n",
       "      <td>Rondonópolis</td>\n",
       "      <td>BR</td>\n",
       "      <td>27.46</td>\n",
       "      <td>overcast clouds</td>\n",
       "      <td>-16.4708</td>\n",
       "      <td>-54.6356</td>\n",
       "      <td>Serras Hotel</td>\n",
       "    </tr>\n",
       "    <tr>\n",
       "      <th>317</th>\n",
       "      <td>1728</td>\n",
       "      <td>Itarema</td>\n",
       "      <td>BR</td>\n",
       "      <td>26.33</td>\n",
       "      <td>clear sky</td>\n",
       "      <td>-2.9248</td>\n",
       "      <td>-39.9167</td>\n",
       "      <td>Sea Lounge! Bar, Club &amp; Restaurant</td>\n",
       "    </tr>\n",
       "  </tbody>\n",
       "</table>\n",
       "</div>"
      ],
      "text/plain": [
       "     City_ID          City Country  Max Temp Current Description      Lat  \\\n",
       "8         65    Piracuruca      BR     27.15       broken clouds  -3.9281   \n",
       "14       109         Natal      BR     25.72          few clouds  -5.7950   \n",
       "249     1388  Rondonópolis      BR     27.46     overcast clouds -16.4708   \n",
       "317     1728       Itarema      BR     26.33           clear sky  -2.9248   \n",
       "\n",
       "         Lng                          Hotel Name  \n",
       "8   -41.7092                  Pousada Piracuruca  \n",
       "14  -35.2094            Villa Park Hotel | Natal  \n",
       "249 -54.6356                        Serras Hotel  \n",
       "317 -39.9167  Sea Lounge! Bar, Club & Restaurant  "
      ]
     },
     "execution_count": 131,
     "metadata": {},
     "output_type": "execute_result"
    }
   ],
   "source": [
    "# 8. To create a marker layer map between the four cities, combine the four city DataFrames into one\n",
    "# DataFrame.\n",
    "itinerary_df = vacation_df.loc[(vacation_df[\"City\"] == \"Natal\") |\n",
    "                               (vacation_df[\"City\"] == \"Piracuruca\") |\n",
    "                               (vacation_df[\"City\"] == \"Itarema\") |\n",
    "                               (vacation_df[\"City\"] == \"Rondonópolis\")]\n",
    "#itinerary_df = vacation_df.loc[vacation_df[\"Country\"] == \"BR\"]\n",
    "\n",
    "itinerary_df"
   ]
  },
  {
   "cell_type": "code",
   "execution_count": 132,
   "metadata": {},
   "outputs": [],
   "source": [
    "# 9 Using the template add city name, the country code, the weather description and maximum temperature for the city. \n",
    "info_box_template = (\n",
    "    \"<b>City</b><br/>{City}<br/>\"\n",
    "    \"<b>Country</b><br/>{Country}<br/>\"\n",
    "    \"<b>Current Weather</b><br/>{Current Description}<br/>\"\n",
    "    \"<b>Maximum Temperature</b><br/>{Max Temp}<br/>\"\n",
    ")\n",
    "\n",
    "# 10a Get the data from each row and add it to the formatting template and store the data in a list.\n",
    "hotel_info = [info_box_template.format(**row) for index, row in itinerary_df.iterrows()]\n",
    "\n",
    "# 10b. Get the latitude and longitude from each row and store in a new DataFrame.\n",
    "locations = itinerary_df[[\"Lat\", \"Lng\"]]"
   ]
  },
  {
   "cell_type": "code",
   "execution_count": 133,
   "metadata": {},
   "outputs": [
    {
     "data": {
      "application/vnd.jupyter.widget-view+json": {
       "model_id": "cfcd86235d3248d5b0c8ad8897abb6a4",
       "version_major": 2,
       "version_minor": 0
      },
      "text/plain": [
       "Figure(layout=FigureLayout(height='420px'))"
      ]
     },
     "metadata": {},
     "output_type": "display_data"
    }
   ],
   "source": [
    "# 11a. Add a marker layer for each city to the map.\n",
    "city_fig = gmaps.figure()\n",
    "markers = gmaps.marker_layer(locations, info_box_content=hotel_info)\n",
    "city_fig.add_layer(markers)\n",
    "\n",
    "# 11b. Display the figure\n",
    "city_fig"
   ]
  }
 ],
 "metadata": {
  "kernelspec": {
   "display_name": "Python 3",
   "language": "python",
   "name": "python3"
  },
  "language_info": {
   "codemirror_mode": {
    "name": "ipython",
    "version": 3
   },
   "file_extension": ".py",
   "mimetype": "text/x-python",
   "name": "python",
   "nbconvert_exporter": "python",
   "pygments_lexer": "ipython3",
   "version": "3.8.6"
  },
  "latex_envs": {
   "LaTeX_envs_menu_present": true,
   "autoclose": false,
   "autocomplete": true,
   "bibliofile": "biblio.bib",
   "cite_by": "apalike",
   "current_citInitial": 1,
   "eqLabelWithNumbers": true,
   "eqNumInitial": 1,
   "hotkeys": {
    "equation": "Ctrl-E",
    "itemize": "Ctrl-I"
   },
   "labels_anchors": false,
   "latex_user_defs": false,
   "report_style_numbering": false,
   "user_envs_cfg": false
  }
 },
 "nbformat": 4,
 "nbformat_minor": 2
}
